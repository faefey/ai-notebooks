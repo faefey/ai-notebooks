{
  "cells": [
    {
      "cell_type": "markdown",
      "metadata": {
        "id": "0FyddoM3jF_d"
      },
      "source": [
        "# Intelligent Agents: Reflex-Based Agents for the Vacuum-cleaner World\n",
        "\n",
        "## Introduction\n",
        "\n",
        "In this assignment you will implement a simulator environment for an automatic vacuum cleaner robot, a set of different reflex-based agent programs, and perform a comparison study for cleaning a single room. Focus on the __cleaning phase__ which starts when the robot is activated and ends when the last dirty square in the room has been cleaned. Someone else will take care of the agent program needed to navigate back to the charging station after the room is clean.\n",
        "\n",
        "## PEAS description of the cleaning phase\n",
        "\n",
        "__Performance Measure:__ Each action costs 1 energy unit. The performance is measured as the sum of the energy units used to clean the whole room.\n",
        "\n",
        "__Environment:__ A room with $n \\times n$ squares where $n = 5$. Dirt is randomly placed on each square with probability $p = 0.2$. For simplicity, you can assume that the agent knows the size and the layout of the room (i.e., it knows $n$). To start, the agent is placed on a random square.\n",
        "\n",
        "__Actuators:__ The agent can clean the current square (action `suck`) or move to an adjacent square by going `north`, `east`, `south`, or `west`.\n",
        "\n",
        "__Sensors:__ Four bumper sensors, one for north, east, south, and west; a dirt sensor reporting dirt in the current square.  \n",
        "\n",
        "\n",
        "## The agent program for a simple randomized agent\n",
        "\n",
        "The agent program is a function that gets sensor information (the current percepts) as the arguments. The arguments are:\n",
        "\n",
        "* A dictionary with boolean entries for the for bumper sensors `north`, `east`, `west`, `south`. E.g., if the agent is on the north-west corner, `bumpers` will be `{\"north\" : True, \"east\" : False, \"south\" : False, \"west\" : True}`.\n",
        "* The dirt sensor produces a boolean.\n",
        "\n",
        "The agent returns the chosen action as a string.\n",
        "\n",
        "Here is an example implementation for the agent program of a simple randomized agent:  "
      ]
    },
    {
      "cell_type": "code",
      "execution_count": 73,
      "metadata": {
        "id": "2fDxkbCajF_f"
      },
      "outputs": [],
      "source": [
        "import numpy as np\n",
        "\n",
        "actions = [\"north\", \"east\", \"west\", \"south\", \"suck\"]\n",
        "\n",
        "def simple_randomized_agent(bumpers, dirty):\n",
        "    return np.random.choice(actions)"
      ]
    },
    {
      "cell_type": "code",
      "execution_count": 74,
      "metadata": {
        "colab": {
          "base_uri": "https://localhost:8080/",
          "height": 35
        },
        "id": "QrLrE1XPjF_g",
        "outputId": "a0ce48da-e1bd-47eb-fd4f-8b1c415873bc"
      },
      "outputs": [
        {
          "data": {
            "application/vnd.google.colaboratory.intrinsic+json": {
              "type": "string"
            },
            "text/plain": [
              "'south'"
            ]
          },
          "execution_count": 74,
          "metadata": {},
          "output_type": "execute_result"
        }
      ],
      "source": [
        "# define percepts (current location is NW corner and it is dirty)\n",
        "bumpers = {\"north\" : True, \"east\" : False, \"south\" : False, \"west\" : True}\n",
        "dirty = True\n",
        "\n",
        "# call agent program function with percepts and it returns an action\n",
        "simple_randomized_agent(bumpers, dirty)"
      ]
    },
    {
      "cell_type": "markdown",
      "metadata": {
        "id": "GB5AWgpmjF_g"
      },
      "source": [
        "__Note:__ This is not a rational intelligent agent. It ignores its sensors and may bump into a wall repeatedly or not clean a dirty square. You will be asked to implement rational agents below."
      ]
    },
    {
      "cell_type": "markdown",
      "metadata": {
        "id": "I_r7AxrIjF_g"
      },
      "source": [
        "## Simple environment example\n",
        "\n",
        "We implement a simple simulation environment that supplies the agent with its percepts.\n",
        "The simple environment is infinite in size (bumpers are always `False`) and every square is always dirty, even if the agent cleans it. The environment function returns a performance measure which is here the number of cleaned squares (since the room is infinite and all squares are constantly dirty, the agent can never clean the whole room as required in the PEAS description above). The energy budget of the agent is specified as `max_steps`."
      ]
    },
    {
      "cell_type": "code",
      "execution_count": 75,
      "metadata": {
        "id": "OdiZBgUqjF_h"
      },
      "outputs": [],
      "source": [
        "def simple_environment(agent, max_steps, verbose = True):\n",
        "    num_cleaned = 0\n",
        "\n",
        "    for i in range(max_steps):\n",
        "        dirty = True\n",
        "        bumpers = {\"north\" : False, \"south\" : False, \"west\" : False, \"east\" : False}\n",
        "\n",
        "        action = agent(bumpers, dirty)\n",
        "        if (verbose): print(\"step\", i , \"- action:\", action)\n",
        "\n",
        "        if (action == \"suck\"):\n",
        "            num_cleaned = num_cleaned + 1\n",
        "\n",
        "    return num_cleaned\n",
        "\n"
      ]
    },
    {
      "cell_type": "markdown",
      "metadata": {
        "id": "Tdt7xvQkjF_h"
      },
      "source": [
        "Do one simulation run with a simple randomized agent that has enough energy for 20 steps."
      ]
    },
    {
      "cell_type": "code",
      "execution_count": 76,
      "metadata": {
        "colab": {
          "base_uri": "https://localhost:8080/"
        },
        "id": "YBwp8uTEjF_h",
        "outputId": "1900e713-eeff-4970-991e-c0515ddb4d9e"
      },
      "outputs": [
        {
          "name": "stdout",
          "output_type": "stream",
          "text": [
            "step 0 - action: south\n",
            "step 1 - action: west\n",
            "step 2 - action: east\n",
            "step 3 - action: north\n",
            "step 4 - action: east\n",
            "step 5 - action: south\n",
            "step 6 - action: west\n",
            "step 7 - action: west\n",
            "step 8 - action: south\n",
            "step 9 - action: east\n",
            "step 10 - action: west\n",
            "step 11 - action: suck\n",
            "step 12 - action: suck\n",
            "step 13 - action: east\n",
            "step 14 - action: south\n",
            "step 15 - action: east\n",
            "step 16 - action: west\n",
            "step 17 - action: west\n",
            "step 18 - action: north\n",
            "step 19 - action: suck\n"
          ]
        },
        {
          "data": {
            "text/plain": [
              "3"
            ]
          },
          "execution_count": 76,
          "metadata": {},
          "output_type": "execute_result"
        }
      ],
      "source": [
        "simple_environment(simple_randomized_agent, max_steps = 20)"
      ]
    },
    {
      "cell_type": "markdown",
      "metadata": {
        "id": "G_qQj5brjF_i"
      },
      "source": [
        "# Tasks\n",
        "\n",
        "## Task 1: Implement a simulation environment [20 Points]\n",
        "\n",
        "The simple environment above is not very realistic. Your environment simulator needs to follow the PEAS description from above. It needs to:\n",
        "\n",
        "* Initialize the environment by storing the state of each square (clean/dirty) and making some dirty. ([Help with random numbers and arrays in Python](https://github.com/mhahsler/CS7320-AI/blob/master/HOWTOs/random_numbers_and_arrays.ipynb))\n",
        "* Keep track of the agent's position.\n",
        "* Call the agent function repeatedly and provide the agent function with the sensor inputs.  \n",
        "* React to the agent's actions. E.g, by removing dirt from a square or moving the agent around unless there is a wall in the way.\n",
        "* Keep track of the performance measure. That is, track the agent's actions until all dirty squares are clean and count the number of actions it takes the agent to complete the task.\n",
        "\n",
        "The easiest implementation for the environment is to hold an 2-dimensional array to represent if squares are clean or dirty and to call the agent function in a loop until all squares are clean or a predefined number of steps have been reached (i.e., the robot runs out of energy).\n",
        "\n",
        "The simulation environment should be a function like the `simple_environment()` and needs to work with the simple randomized agent program from above. **Use the same environment for all your agent implementations in the tasks below.**\n",
        "\n",
        "*Note on debugging:* Debugging is difficult. Make sure your environment prints enough information when you use `verbose = True`. Also, implementing a function that the environment can use to displays the room with dirt and the current position of the robot at every step is very useful.  "
      ]
    },
    {
      "cell_type": "code",
      "execution_count": 77,
      "metadata": {
        "id": "f_a8GJKYjF_i"
      },
      "outputs": [],
      "source": [
        "def environment(agent, max_steps, n, verbose=False):\n",
        "  # create random number generator\n",
        "  rng = np.random.default_rng()\n",
        "\n",
        "  # initialize n by n environment with clean/dirty squares with 0.2 probability of any square being dirty\n",
        "  env = rng.choice([0, 1], size=(n,n), p=[0.8, 0.2])\n",
        "\n",
        "  # sum the ndarray to find the number of dirty squares\n",
        "  num_dirty = env.sum()\n",
        "\n",
        "  # generate a random starting position for the robot\n",
        "  pos = rng.integers(low=0, high=n, size=2)\n",
        "\n",
        "  # loop until max_steps is reached\n",
        "  for i in range(max_steps):\n",
        "\n",
        "    # return number of steps used if room is clean\n",
        "    if num_dirty == 0:\n",
        "      return i\n",
        "\n",
        "    # determine percepts and provide agent with them, resulting in an action\n",
        "    bumpers = {\"north\": pos[0] == 0, \"south\": pos[0] == n - 1, \"west\": pos[1] == 0, \"east\": pos[1] == n - 1}\n",
        "    dirty = env[pos[0], pos[1]]\n",
        "    action = agent(bumpers, dirty)\n",
        "\n",
        "    # verbose output\n",
        "    if verbose:\n",
        "      print(env, pos)\n",
        "      print(\"step\", i , \"- action:\", action)\n",
        "      print()\n",
        "\n",
        "    # environment reacting to action of agent\n",
        "    if action == \"suck\":\n",
        "      # if on dirty square, clean it\n",
        "      if env[pos[0], pos[1]] == 1:\n",
        "        env[pos[0], pos[1]] = 0\n",
        "        num_dirty -= 1\n",
        "    elif action == \"north\" and not bumpers[\"north\"]:\n",
        "      pos[0] -= 1\n",
        "    elif action == \"south\" and not bumpers[\"south\"]:\n",
        "      pos[0] += 1\n",
        "    elif action == \"west\" and not bumpers[\"west\"]:\n",
        "      pos[1] -= 1\n",
        "    elif action == \"east\" and not bumpers[\"east\"]:\n",
        "      pos[1] += 1\n",
        "\n",
        "  # return max_steps if robot fails to clean room\n",
        "  return max_steps\n",
        "\n",
        "# environment(simple_randomized_agent, 100000, 100, verbose=False)"
      ]
    },
    {
      "cell_type": "markdown",
      "metadata": {
        "id": "gXsl-EjMjF_j"
      },
      "source": [
        "## Task 2:  Implement a simple reflex agent [10 Points]\n",
        "\n",
        "The simple reflex agent randomly walks around but reacts to the bumper sensor by not bumping into the wall and to dirt with sucking. Implement the agent program as a function.\n",
        "\n",
        "_Note:_ Agents cannot directly use variable in the environment. They only gets the percepts as the arguments to the agent function."
      ]
    },
    {
      "cell_type": "code",
      "execution_count": 78,
      "metadata": {
        "id": "Q0ddGaBNjF_j"
      },
      "outputs": [],
      "source": [
        "def simple_reflex_agent(bumpers, dirty):\n",
        "  # if dirty, then suck\n",
        "  if dirty:\n",
        "    return \"suck\"\n",
        "  # else, move in a random direction where the bumper is false\n",
        "  else:\n",
        "    return np.random.choice([k for k, v in bumpers.items() if not v])\n",
        "\n",
        "# environment(simple_reflex_agent, 100000, 100, verbose=False)"
      ]
    },
    {
      "cell_type": "markdown",
      "metadata": {
        "id": "M1q8qmwvjF_j"
      },
      "source": [
        "## Task 3: Implement a model-based reflex agent [20 Points]\n",
        "\n",
        "Model-based agents use a state to keep track of what they have done and perceived so far. Your agent needs to find out where it is located and then keep track of its current location. You also need a set of rules based on the state and the percepts to make sure that the agent will clean the whole room. For example, the agent can move to a corner to determine its location and then it can navigate through the whole room and clean dirty squares.\n",
        "\n",
        "Describe how you define the __agent state__ and how your agent works before implementing it. ([Help with implementing state information on Python](https://github.com/mhahsler/CS7320-AI/blob/master/HOWTOs/store_agent_state_information.ipynb))"
      ]
    },
    {
      "cell_type": "code",
      "execution_count": 79,
      "metadata": {
        "id": "daAwOtmTjF_j"
      },
      "outputs": [],
      "source": [
        "# The agent state will be its previous and current position.\n",
        "# A 1D array of length 2 will be used to store each.\n",
        "# Whenever the agent leaves a square, that square must be clean and does not need to be returned to.\n",
        "# The agent moves, from the northwest corner, south until it reaches a wall, east once, north until it reaches a wall, east once, and repeats."
      ]
    },
    {
      "cell_type": "code",
      "execution_count": 80,
      "metadata": {
        "id": "wZqL8CCAjF_j"
      },
      "outputs": [],
      "source": [
        "# class to store state\n",
        "class model_based_reflex_agent:\n",
        "\n",
        "  # intitialize agent\n",
        "  def __init__(self):\n",
        "    self.prev = None\n",
        "    self.pos = None\n",
        "\n",
        "  # agent returns an action based on percepts\n",
        "  def act(self, bumpers, dirty):\n",
        "    # if agent has not reached NW corner, move north and west there\n",
        "    if not self.pos:\n",
        "      if not bumpers[\"north\"]:\n",
        "        return \"north\"\n",
        "      if not bumpers[\"west\"]:\n",
        "        return \"west\"\n",
        "      # at this point, the north and west bumpers are true, so set current position to [0, 0]\n",
        "      self.pos = [0, 0]\n",
        "\n",
        "    # if dirty, then suck\n",
        "    if dirty:\n",
        "      return \"suck\"\n",
        "    # else, attempt to go north, then attempt to go south, and if both are not possible, go east\n",
        "    # when the agent is facing the south or north wall, it can not go backwards to its previous position\n",
        "    # and can not bump into the wall, so it goes east\n",
        "    else:\n",
        "      # checks if it can go north and that it is not going backwards\n",
        "      if not bumpers[\"north\"] and self.prev != [self.pos[0] - 1, self.pos[1]]:\n",
        "        # update previous and current position\n",
        "        self.prev = [self.pos[0], self.pos[1]]\n",
        "        self.pos[0] -= 1\n",
        "        return \"north\"\n",
        "      # checks if it can go south and that it is not going backwards\n",
        "      elif not bumpers[\"south\"] and self.prev != [self.pos[0] + 1, self.pos[1]]:\n",
        "        # update previous and current position\n",
        "        self.prev = [self.pos[0], self.pos[1]]\n",
        "        self.pos[0] += 1\n",
        "        return \"south\"\n",
        "      # else, go east\n",
        "      else:\n",
        "        # update previous and current position\n",
        "        self.prev = [self.pos[0], self.pos[1]]\n",
        "        self.pos[1] += 1\n",
        "        return \"east\"\n",
        "\n",
        "# environment(model_based_reflex_agent().act, 100000, 100, verbose=False)"
      ]
    },
    {
      "cell_type": "markdown",
      "metadata": {
        "id": "Qi3JK-9hjF_k"
      },
      "source": [
        "## Task 4: Simulation study [30 Points]\n",
        "\n",
        "Compare the performance (the performance measure is defined in the PEAS description above) of the agents using  environments of different size. E.g., $5 \\times 5$, $10 \\times 10$ and\n",
        "$100 \\times 100$. Use 100 random runs for each with 100000 max steps. Present the results using tables and graphs. Discuss the differences between the agents.\n",
        "([Help with charts and tables in Python](https://github.com/mhahsler/CS7320-AI/blob/master/HOWTOs/charts_and_tables.ipynb))"
      ]
    },
    {
      "cell_type": "code",
      "execution_count": 81,
      "metadata": {
        "id": "ccpkRw9VjF_k"
      },
      "outputs": [],
      "source": [
        "def simulate(agent, inst=False):\n",
        "  # steps for 5x5, 10x10, 100x100 environments\n",
        "  five = ten = hundred = 0\n",
        "\n",
        "  # simulate 100 times\n",
        "  for i in range(100):\n",
        "    # if agent is a class and needs to be instantiated\n",
        "    if inst:\n",
        "      # add steps for each simulation\n",
        "      five += environment(agent().act, 100000, 5)\n",
        "      ten += environment(agent().act, 100000, 10)\n",
        "      hundred += environment(agent().act, 100000, 100)\n",
        "    # else, use the agent directly\n",
        "    else:\n",
        "      # add steps for each simulation\n",
        "      five += environment(agent, 100000, 5)\n",
        "      ten += environment(agent, 100000, 10)\n",
        "      hundred += environment(agent, 100000, 100)\n",
        "\n",
        "  # find average by dividing by 100\n",
        "  five /= 100\n",
        "  ten /= 100\n",
        "  hundred /= 100\n",
        "\n",
        "  #return array of average steps for 5x5, 10x10, 100x100 environments\n",
        "  return [five, ten, hundred]\n",
        "\n",
        "# simple_randomized = simulate(simple_randomized_agent)\n",
        "# simple_reflex = simulate(simple_reflex_agent)\n",
        "# model_based_reflex = simulate(model_based_reflex_agent, inst=True)\n",
        "\n",
        "# print(\"simple randomized agent:\", simple_randomized)\n",
        "# print(\"simple reflex agent:\", simple_reflex)\n",
        "# print(\"model-based reflex agent:\", model_based_reflex)"
      ]
    },
    {
      "cell_type": "code",
      "execution_count": 82,
      "metadata": {
        "id": "1LFmg4e2Xjlb"
      },
      "outputs": [],
      "source": [
        "# Output of code above (in arrays of 5x5, 10x10, 100x100):\n",
        "\n",
        "# simple randomized agent: [438.76, 3020.05, 100000.0]\n",
        "# simple reflex agent: [112.41, 902.91, 100000.0]\n",
        "# model-based reflex agent: [28.54, 125.33, 12089.62]"
      ]
    },
    {
      "cell_type": "markdown",
      "metadata": {
        "id": "tlAtLmp6jF_k"
      },
      "source": [
        "Fill out the following table with the average performance measure for 100 random runs (you may also create this table with code):\n",
        "\n",
        "| Size     | Randomized Agent | Simple Reflex Agent | Model-based Reflex Agent |\n",
        "|----------|------------------|---------------------|--------------------------|\n",
        "| 5x5     |438.76 |112.41 |28.54 |\n",
        "| 10x10   |3020.05 |902.91 |125.33 |\n",
        "| 100x100 |100000.0 |100000.0 |12089.62 |\n",
        "\n",
        "\n",
        "Add charts to compare the performance of the different agents."
      ]
    },
    {
      "cell_type": "code",
      "execution_count": 83,
      "metadata": {
        "colab": {
          "base_uri": "https://localhost:8080/",
          "height": 472
        },
        "id": "J361sF6yjF_k",
        "outputId": "37074acf-4624-447f-f9e5-eec696685cc9"
      },
      "outputs": [
        {
          "data": {
            "image/png": "[encoded data removed]",
            "text/plain": [
              "<Figure size 640x480 with 1 Axes>"
            ]
          },
          "metadata": {},
          "output_type": "display_data"
        }
      ],
      "source": [
        "# Run the below code to see the graph. The y-axis is log scaled.\n",
        "# The simple randomized agent used 3 to 4 times more steps than the simple reflex agent in the 5x5 and 10x10 environments.\n",
        "# In the 100x100 environment, both the simple randomized agent and the simple reflex agent were unable to fully clean all the dirt and used the maximum number of steps.\n",
        "# The number of steps the model-based reflex agent used is several times lower than the other two agents for all environments,\n",
        "# which makes sense as the other two agents include some level of randomness in their actions while the model-based reflex agent does not.\n",
        "\n",
        "import matplotlib.pyplot as plt\n",
        "\n",
        "agents = [\"Simple Randomized\", \"Simple Reflex\", \"Model-Based Reflex\"]\n",
        "env_sizes = [\"5x5\", \"10x10\", \"100x100\"]\n",
        "simple_randomized = [438.76, 3020.05, 100000.0]\n",
        "simple_reflex = [112.41, 902.91, 100000.0]\n",
        "model_based_reflex = [28.54, 125.33, 12089.62]\n",
        "\n",
        "plt.plot(env_sizes, simple_randomized)\n",
        "plt.plot(env_sizes, simple_reflex)\n",
        "plt.plot(env_sizes, model_based_reflex)\n",
        "plt.title(\"Agents' Steps for Different Sized Environments\")\n",
        "plt.legend(agents)\n",
        "plt.xlabel(\"Environment Size\")\n",
        "plt.ylabel(\"Number of Steps\")\n",
        "plt.yscale(\"log\")\n",
        "plt.grid(\"on\")"
      ]
    },
    {
      "cell_type": "markdown",
      "metadata": {
        "id": "LVOWQhVOjF_k"
      },
      "source": [
        "## Task 5: Robustness of the agent implementations [10 Points]\n",
        "\n",
        "Describe how **your agent implementations** will perform\n",
        "\n",
        "* if it is put into a rectangular room with unknown size,\n",
        "* if the cleaning area can have an irregular shape (e.g., a hallway connecting two rooms), or\n",
        "* if the room contains obstacles (i.e., squares that it cannot pass through and trigger the bumper sensors)."
      ]
    },
    {
      "cell_type": "code",
      "execution_count": 84,
      "metadata": {
        "id": "1d1TRkpcjF_l"
      },
      "outputs": [],
      "source": [
        "# Simple Randomized Agent:\n",
        "# Will succeed if there is no limit on steps in each of the three scenarios and will not have its performance affected by the scenarios, because it is completely random\n",
        "\n",
        "# Simple Reflex Agent:\n",
        "# Will succeed if there is no limit on steps in each of the three scenarios and will not have its performance affected by the scenarios, because it moves randomly\n",
        "\n",
        "# Model-Based Reflex Agent:\n",
        "# Will succeed in a rectangular room of unknown size, because it will move north and west until both its north and west bumper sensors sense a wall\n",
        "# At that point, it will systematically clean the room with the algorithmn I implemented, which works in any rectangular room\n",
        "# Will fail if the cleaning area is irregularly shaped, because the algorithmn I implemented only works in a rectangular room\n",
        "# Will fail if the room contains obstacles, because the algorithm I implemented only works in a rectangular room with no obstacles\n",
        "# *The algorithm is explained in the model-based reflex agent section"
      ]
    },
    {
      "cell_type": "markdown",
      "metadata": {
        "id": "w9DyCkSckcFB"
      },
      "source": [
        "\n",
        "\n",
        "---\n",
        "Assignment adapted from [Michael Hahsler](https://github.com/mhahsler/CS7320-AI) under [CC BY-SA](https://creativecommons.org/licenses/by-sa/4.0/deed.en) license.\n"
      ]
    }
  ],
  "metadata": {
    "colab": {
      "provenance": []
    },
    "kernelspec": {
      "display_name": "Python 3 (ipykernel)",
      "language": "python",
      "name": "python3"
    },
    "language_info": {
      "codemirror_mode": {
        "name": "ipython",
        "version": 3
      },
      "file_extension": ".py",
      "mimetype": "text/x-python",
      "name": "python",
      "nbconvert_exporter": "python",
      "pygments_lexer": "ipython3",
      "version": "3.10.12"
    },
    "toc-autonumbering": false
  },
  "nbformat": 4,
  "nbformat_minor": 0
}
