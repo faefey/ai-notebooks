{
  "cells": [
    {
      "cell_type": "markdown",
      "metadata": {
        "id": "-rnkCP9R2o_Z"
      },
      "source": [
        "# Introduction"
      ]
    },
    {
      "cell_type": "markdown",
      "metadata": {
        "id": "wdtvm8lB2o_b"
      },
      "source": [
        "## Z3 and Z3py resources\n",
        "\n",
        "For this problem you will be solving constraint satisfaction and logic problems using the Z3 SMT solver via the z3py python library.\n",
        "\n",
        "The demo code using z3py we went over in class is here: [link](https://drive.google.com/drive/folders/16HQXiwdcaman1IpC7H6vSJ71QQQ-aL2z?usp=sharing)\n",
        "\n",
        "Online help for z3py is here: [link](https://ericpony.github.io/z3py-tutorial/guide-examples.htm)"
      ]
    },
    {
      "cell_type": "markdown",
      "metadata": {
        "id": "F6mYrFaM2o_b"
      },
      "source": [
        "## Installation\n",
        "\n",
        "We first install to get the z3solver library using pip and test that works."
      ]
    },
    {
      "cell_type": "code",
      "execution_count": 13,
      "metadata": {
        "colab": {
          "base_uri": "https://localhost:8080/"
        },
        "id": "EoLs1AWw38Tj",
        "outputId": "8a58080c-fee3-48c4-e2eb-79878da6d14f"
      },
      "outputs": [
        {
          "name": "stdout",
          "output_type": "stream",
          "text": [
            "Requirement already satisfied: z3-solver in /usr/local/lib/python3.10/dist-packages (4.13.0.0)\n"
          ]
        }
      ],
      "source": [
        "!pip install z3-solver"
      ]
    },
    {
      "cell_type": "code",
      "execution_count": 14,
      "metadata": {
        "colab": {
          "base_uri": "https://localhost:8080/"
        },
        "id": "xnQTztNX2o_c",
        "outputId": "1da24ac2-e15d-41d6-9553-88e47a96fdbe"
      },
      "outputs": [
        {
          "name": "stdout",
          "output_type": "stream",
          "text": [
            "[y = 0, x = 7]\n"
          ]
        }
      ],
      "source": [
        "# Run the first example from the z3py guide as a test: https://ericpony.github.io/z3py-tutorial/guide-examples.htm\n",
        "from z3 import *\n",
        "\n",
        "x = Int('x')\n",
        "y = Int('y')\n",
        "solve(x > 2, y < 10, x + 2*y == 7)"
      ]
    },
    {
      "cell_type": "markdown",
      "metadata": {
        "id": "9J3lpQvP52jm"
      },
      "source": [
        "# Sudoku as a constraint satisfaction problem (CSP)\n",
        "\n",
        "Sudoku is a popular number-placement puzzle that originated in France in the end of the 19th century.  Modern Sudoku was likely invented by Howard Garns from Connersville, Indiana and was first published in 1979 under the name *Number Place*. The objective of the puzzle is to place numbers 1-9 on a 9$\\times$9 grid, such that each number occurs only once in every row, every column, and every of the nine 3$\\times$3 sub-grids that compose the main grid.\n",
        "Sudoku puzzles are grids that have been partially occupied with numbers. The task is then to occupy the remaining fields in such a way that the constraints on rows, columns, and sub-grids are satisfied.\n",
        "For more information about Sudoku refer to its Wikipedia page at http://en.wikipedia.org/wiki/Sudoku.\n",
        "\n",
        "This problem has two parts. In the first part, you will write the boolean constraints in mathematical notation for solving a Sudoku puzzle. In the second part, you will write code and invoke the Z3 solver to solve the Sudoku instance and answer various questions about the solution.\n",
        "\n",
        "## Part 1 (Constraints)\n",
        "In text, define and write constraints over **boolean** variables corresponding to each number being in each cell. For example, you may use $X_{i,j}^k$ as the variable that is true if and only if the number $k$ is in row $i$ and column $j$ (the variable is true if $k$ is in cell $(i, j)$ and false otherwise). Now write the following boolean constaints over these variables:\n",
        "\n",
        "* Write the boolean formula for the constraints that the number 5 can occur at most once in the first row. **(1 point)**\n",
        "* Write the boolean formula for the constraints that the number 6 can occur at most once in the first column. **(1 point)**\n",
        "* Write the boolean formula for the constraints that the number 9 can occur at most once in the top left 3$\\times$3 sub-grid. **(1 point)**"
      ]
    },
    {
      "cell_type": "markdown",
      "metadata": {
        "id": "ju3Q1ewW7aeu"
      },
      "source": [
        "Constraints:\n",
        "\n",
        "* The number $k$ in row $i$ and column $j$ that is part of the initial grid state $I$ cannot be changed. This can be expressed as $\\forall_{(i,j,k) \\in I} (X_{i,j}^k)$.\n",
        "* For all rows $i$ and all columns $j$, row $i$ and column $j$ must contain at least one number $k$. This can be expressed as $\\forall_{i,j} (\\exists_k (X_{i,j}^k))$.\n",
        "* For all rows $i$, all columns $j$, and all numbers $k$, row $i$ and column $j$ cannot contain number $k$ and number $k'$ as well, where $k' \\neq k$. This can be expressed as $\\forall_{i,j,k} (X_{i,j}^k \\Rightarrow \\forall_{k' \\neq k} (\\neg X_{i,j}^{k'}))$.\n",
        "* For all rows $i$, all columns $j$, and all numbers $k$, the number $k$ in row $i$ and column $j$ cannot be in row $i$ and column $j'$ as well, where $j' \\neq j$. This can be expressed as $\\forall_{i,j,k} (X_{i,j}^k \\Rightarrow \\forall_{j' \\neq j} (\\neg X_{i,j'}^k))$.\n",
        "* For all rows $i$, all columns $j$, and all numbers $k$, the number $k$ in row $i$ and column $j$ cannot be in row $i'$ and column $j$ as well, where $i' \\neq i$. This can be expressed as $\\forall_{i,j,k} (X_{i,j}^k \\Rightarrow \\forall_{i' \\neq i} (\\neg X_{i',j}^k))$.\n",
        "* For all positions $(i,j)$ of the form $(row,column)$ contained within each sub-grid $G$ and all numbers $k$, the number $k$ in row $i$ and column $j$ cannot be in row $i'$ and column $j'$ as well, where $(i', j') \\neq (i, j)$. This can be expressed as $\\forall_{G} (\\forall_{(i,j) \\in G,k} (X_{i,j}^k \\Rightarrow \\forall_{(i',j') \\neq (i,j)} (\\neg X_{i',j'}^k)))$.\n",
        "\n",
        "Boolean Formulas (with (1,1) being the top-left corner of the grid):\n",
        "\n",
        "* $\\forall_{j} (X_{1,j}^5 \\Rightarrow \\forall_{j' \\neq j} (\\neg X_{1,j'}^5))$\n",
        "* $\\forall_{i} (X_{i,1}^6 \\Rightarrow \\forall_{i' \\neq i} (\\neg X_{i',1}^6))$\n",
        "* $\\forall_{(i,j) \\in G} (X_{i,j}^9 \\Rightarrow \\forall_{(i',j') \\neq (i,j)} (\\neg X_{i',j'}^9))$, where $G = \\{(1,1), (1,2), (1,3), (2,1), (2,2), (2,3), (3,1), (3,2), (3,3)\\}$"
      ]
    },
    {
      "cell_type": "markdown",
      "metadata": {
        "id": "y7kArKLH7eOR"
      },
      "source": [
        "## Part 2 (Coding)\n",
        "\n",
        "Encode the above constraints and all the other ones as a CSP using z3py and solve the Sudoku instance given in the figure below. **Use only boolean variables** and do not use the **Distinct** function.\n",
        "\n",
        "* Provide the code to solve that solves the given problem instance using z3py and only boolean variables. The code should output a reasonable visualization of the solution, for example printed in text. **(1 points)**\n",
        "\n",
        "<img src=\"https://raw.githubusercontent.com/stanleybak/CS7320-AI/master/Knowledge-based/sudoku1.jpg\" width=\"400\"/>\n",
        "\n"
      ]
    },
    {
      "cell_type": "code",
      "execution_count": 15,
      "metadata": {
        "colab": {
          "base_uri": "https://localhost:8080/"
        },
        "id": "UghnVSTS-kJi",
        "outputId": "35f8e9ea-1c3a-4f2a-d220-ca30ea094a99"
      },
      "outputs": [
        {
          "name": "stdout",
          "output_type": "stream",
          "text": [
            "-------------------------------\n",
            "| 3  1  9 | 4  6  2 | 8  5  7 |\n",
            "| 5  2  4 | 7  9  8 | 1  3  6 |\n",
            "| 8  6  7 | 3  5  1 | 9  2  4 |\n",
            "-------------------------------\n",
            "| 7  3  5 | 2  1  9 | 4  6  8 |\n",
            "| 1  9  6 | 8  4  5 | 2  7  3 |\n",
            "| 2  4  8 | 6  3  7 | 5  1  9 |\n",
            "-------------------------------\n",
            "| 4  5  3 | 9  2  6 | 7  8  1 |\n",
            "| 6  8  1 | 5  7  4 | 3  9  2 |\n",
            "| 9  7  2 | 1  8  3 | 6  4  5 |\n",
            "-------------------------------\n",
            "Solutions found: 1\n"
          ]
        }
      ],
      "source": [
        "# z3py code to solve above Sudoku goes here. Do not use Int(*), only Bool(*)\n",
        "from z3 import *\n",
        "\n",
        "def solve_sudoku(grid, show=0):\n",
        "  \"\"\"Solves a sudoku grid using the last solution found and prints the number of solutions found.\"\"\"\n",
        "\n",
        "  # create a Solver\n",
        "  s = Solver()\n",
        "\n",
        "  # for all rows i\n",
        "  for i in range(len(grid)):\n",
        "    # for all columns j\n",
        "    for j in range(len(grid[0])):\n",
        "\n",
        "      # if grid position is not occupied\n",
        "      if grid[i][j] == 0:\n",
        "\n",
        "        # for all numbers k\n",
        "        for k in range(1, 10):\n",
        "          # add row constraint\n",
        "          s.add(Implies(Bool(f\"X_{i,j,k}\"), And(*[Not(Bool(f\"X_{x,j,k}\")) for x in range(9) if x != i])))\n",
        "          # add column constraint\n",
        "          s.add(Implies(Bool(f\"X_{i,j,k}\"), And(*[Not(Bool(f\"X_{i,x,k}\")) for x in range(9) if x != j])))\n",
        "          # add at most one number per grid position constraint\n",
        "          s.add(Implies(Bool(f\"X_{i,j,k}\"), And(*[Not(Bool(f\"X_{i,j,x}\")) for x in range(1, 10) if x != k])))\n",
        "\n",
        "        # add at least one number per grid position constraint\n",
        "        s.add(Or(*[Bool(f\"X_{i,j,k}\") for k in range(1, 10)]))\n",
        "\n",
        "      # if grid position is occupied\n",
        "      else:\n",
        "\n",
        "        # add initial grid state constraint\n",
        "        s.add(Bool(f\"X_{i,j,grid[i][j]}\"))\n",
        "\n",
        "  # iterate over sub-grid row number upper limits\n",
        "  for a in range(3, 10, 3):\n",
        "    # iterate over sub-grid column number upper limits\n",
        "    for b in range(3, 10, 3):\n",
        "      # for all sub-grid rows\n",
        "      for i in range(a - 3, a):\n",
        "        # for all sub-grid columns\n",
        "        for j in range(b - 3, b):\n",
        "          # for all numbers k\n",
        "          for k in range(1, 10):\n",
        "            # add sub-grid constraint\n",
        "            s.add(Implies(Bool(f\"X_{i,j,k}\"), And(*[Not(Bool(f\"X_{x,y,k}\")) for x in range(a - 3, a) for y in range(b - 3, b) if x != i or y != j])))\n",
        "\n",
        "  # number of solutions\n",
        "  num = 0\n",
        "\n",
        "  # loop until no other solution is found\n",
        "  while s.check() == sat:\n",
        "\n",
        "    # increment number of solutions\n",
        "    num += 1\n",
        "\n",
        "    # get model\n",
        "    m = s.model()\n",
        "\n",
        "    # constraint to find a different solution\n",
        "    constraint = None\n",
        "\n",
        "    # iterate over variables in the model\n",
        "    for v in m:\n",
        "\n",
        "      # if the variable is true\n",
        "      if m[v]:\n",
        "\n",
        "        # print the variable\n",
        "        # print(f\"{v}: {m[v]}\")\n",
        "\n",
        "        # get name of variable\n",
        "        name = v.name()\n",
        "\n",
        "        # extract i, j, and k from name of variable\n",
        "        ijk = (int(name[3]), int(name[6]), int(name[9]))\n",
        "\n",
        "        # add number to grid\n",
        "        grid[ijk[0]][ijk[1]] = ijk[2]\n",
        "\n",
        "        # build constraint to find a different solution\n",
        "        if constraint is None:\n",
        "          constraint = Bool(name)\n",
        "        else:\n",
        "          constraint = And(constraint, Bool(name))\n",
        "\n",
        "    # add different solution constraint\n",
        "    s.add(Not(constraint))\n",
        "\n",
        "    # show up to show solutions\n",
        "    if num <= show:\n",
        "      show_sudoku(grid)\n",
        "\n",
        "  # print number of solutions found\n",
        "  print(\"Solutions found:\", num)\n",
        "\n",
        "def show_sudoku(grid):\n",
        "  \"\"\"Prints a sudoku grid.\"\"\"\n",
        "\n",
        "  print(\"-------------------------------\")\n",
        "  for i in range(len(grid)):\n",
        "    print(\"|\", end=\"\")\n",
        "    for j in range(len(grid[0])):\n",
        "      print(\"\", grid[i][j], \"\", end=\"\")\n",
        "      if (j + 1) % 3 == 0:\n",
        "        print(\"|\", end=\"\")\n",
        "    print()\n",
        "    if (i + 1) % 3 == 0:\n",
        "      print(\"-------------------------------\")\n",
        "\n",
        "grid = [[0, 1, 0, 4, 0, 2, 0, 5, 0],\n",
        "        [5, 0, 0, 0, 0, 0, 0, 0, 6],\n",
        "        [0, 0, 0, 3, 0, 1, 0, 0, 0],\n",
        "        [7, 0, 5, 0, 0, 0, 4, 0, 8],\n",
        "        [0, 0, 0, 0, 0, 0, 0, 0, 0],\n",
        "        [2, 0, 8, 0, 0, 0, 5, 0, 9],\n",
        "        [0, 0, 0, 9, 0, 6, 0, 0, 0],\n",
        "        [6, 0, 0, 0, 0, 0, 0, 0, 2],\n",
        "        [0, 7, 0, 1, 0, 3, 0, 4, 0]]\n",
        "\n",
        "solve_sudoku(grid, show=3)"
      ]
    },
    {
      "cell_type": "markdown",
      "metadata": {
        "id": "FIkg9eI38VMG"
      },
      "source": [
        "\n",
        "### Uniqueness\n",
        "Is your solution unique? Prove it with a Z3py solver or provide a second solution. **(1 point)**"
      ]
    },
    {
      "cell_type": "code",
      "execution_count": 16,
      "metadata": {
        "colab": {
          "base_uri": "https://localhost:8080/"
        },
        "id": "-ZacX6gz-4os",
        "outputId": "4f530862-61e1-4901-d620-50cd32aca00b"
      },
      "outputs": [
        {
          "name": "stdout",
          "output_type": "stream",
          "text": [
            "-------------------------------\n",
            "| 3  1  9 | 4  6  2 | 8  5  7 |\n",
            "| 5  2  4 | 7  9  8 | 1  3  6 |\n",
            "| 8  6  7 | 3  5  1 | 9  2  4 |\n",
            "-------------------------------\n",
            "| 7  3  5 | 2  1  9 | 4  6  8 |\n",
            "| 1  9  6 | 8  4  5 | 2  7  3 |\n",
            "| 2  4  8 | 6  3  7 | 5  1  9 |\n",
            "-------------------------------\n",
            "| 4  5  3 | 9  2  6 | 7  8  1 |\n",
            "| 6  8  1 | 5  7  4 | 3  9  2 |\n",
            "| 9  7  2 | 1  8  3 | 6  4  5 |\n",
            "-------------------------------\n",
            "Solutions found: 1\n"
          ]
        }
      ],
      "source": [
        "# The solution is unique as shown in the printed output below.\n",
        "\n",
        "grid = [[0, 1, 0, 4, 0, 2, 0, 5, 0],\n",
        "        [5, 0, 0, 0, 0, 0, 0, 0, 6],\n",
        "        [0, 0, 0, 3, 0, 1, 0, 0, 0],\n",
        "        [7, 0, 5, 0, 0, 0, 4, 0, 8],\n",
        "        [0, 0, 0, 0, 0, 0, 0, 0, 0],\n",
        "        [2, 0, 8, 0, 0, 0, 5, 0, 9],\n",
        "        [0, 0, 0, 9, 0, 6, 0, 0, 0],\n",
        "        [6, 0, 0, 0, 0, 0, 0, 0, 2],\n",
        "        [0, 7, 0, 1, 0, 3, 0, 4, 0]]\n",
        "\n",
        "solve_sudoku(grid, show=3)"
      ]
    },
    {
      "cell_type": "markdown",
      "metadata": {
        "id": "Z6a18s5x-5Hw"
      },
      "source": [
        "### More Uniqueness\n",
        "If you delete the 1 in the top left box of the Sudoku problem above, how many unique solutions are there? Hint: should be less than 5000. **(1 point)**"
      ]
    },
    {
      "cell_type": "code",
      "execution_count": 17,
      "metadata": {
        "colab": {
          "base_uri": "https://localhost:8080/"
        },
        "id": "5_2fNgND_CB4",
        "outputId": "189a6762-8af3-4d30-e90f-f83d932834cc"
      },
      "outputs": [
        {
          "name": "stdout",
          "output_type": "stream",
          "text": [
            "-------------------------------\n",
            "| 3  9  7 | 4  6  2 | 8  5  1 |\n",
            "| 5  1  4 | 7  9  8 | 3  2  6 |\n",
            "| 8  2  6 | 3  5  1 | 7  9  4 |\n",
            "-------------------------------\n",
            "| 7  3  5 | 2  1  9 | 4  6  8 |\n",
            "| 1  6  9 | 8  4  5 | 2  7  3 |\n",
            "| 2  4  8 | 6  3  7 | 5  1  9 |\n",
            "-------------------------------\n",
            "| 4  5  3 | 9  2  6 | 1  8  7 |\n",
            "| 6  8  1 | 5  7  4 | 9  3  2 |\n",
            "| 9  7  2 | 1  8  3 | 6  4  5 |\n",
            "-------------------------------\n",
            "-------------------------------\n",
            "| 1  8  7 | 4  6  2 | 9  5  3 |\n",
            "| 5  3  4 | 8  9  7 | 1  2  6 |\n",
            "| 9  2  6 | 3  5  1 | 7  8  4 |\n",
            "-------------------------------\n",
            "| 7  6  5 | 2  3  9 | 4  1  8 |\n",
            "| 4  9  3 | 5  1  8 | 2  6  7 |\n",
            "| 2  1  8 | 6  7  4 | 5  3  9 |\n",
            "-------------------------------\n",
            "| 3  5  2 | 9  4  6 | 8  7  1 |\n",
            "| 6  4  1 | 7  8  5 | 3  9  2 |\n",
            "| 8  7  9 | 1  2  3 | 6  4  5 |\n",
            "-------------------------------\n",
            "-------------------------------\n",
            "| 1  8  7 | 4  6  2 | 9  5  3 |\n",
            "| 5  4  3 | 8  9  7 | 1  2  6 |\n",
            "| 9  2  6 | 3  5  1 | 7  8  4 |\n",
            "-------------------------------\n",
            "| 7  6  5 | 2  3  9 | 4  1  8 |\n",
            "| 3  9  4 | 5  1  8 | 2  6  7 |\n",
            "| 2  1  8 | 6  7  4 | 5  3  9 |\n",
            "-------------------------------\n",
            "| 4  5  2 | 9  8  6 | 3  7  1 |\n",
            "| 6  3  1 | 7  4  5 | 8  9  2 |\n",
            "| 8  7  9 | 1  2  3 | 6  4  5 |\n",
            "-------------------------------\n",
            "Solutions found: 200\n"
          ]
        }
      ],
      "source": [
        "grid = [[0, 0, 0, 4, 0, 2, 0, 5, 0],\n",
        "        [5, 0, 0, 0, 0, 0, 0, 0, 6],\n",
        "        [0, 0, 0, 3, 0, 1, 0, 0, 0],\n",
        "        [7, 0, 5, 0, 0, 0, 4, 0, 8],\n",
        "        [0, 0, 0, 0, 0, 0, 0, 0, 0],\n",
        "        [2, 0, 8, 0, 0, 0, 5, 0, 9],\n",
        "        [0, 0, 0, 9, 0, 6, 0, 0, 0],\n",
        "        [6, 0, 0, 0, 0, 0, 0, 0, 2],\n",
        "        [0, 7, 0, 1, 0, 3, 0, 4, 0]]\n",
        "\n",
        "solve_sudoku(grid, show=3)"
      ]
    },
    {
      "cell_type": "markdown",
      "metadata": {
        "id": "6nF9g7Ca_SJ1"
      },
      "source": [
        "# Miracle Sudoku\n",
        "\n",
        "Using z3py and only boolean variables, solve the Miracle Sudoku ([spoiler](https://www.youtube.com/watch?v=yKf9aUIxdb4)).\n",
        "In this puzzle normal Sudoku rules apply in addition to the following rules:\n",
        "* Any two cells separated by a knight's move from chess (moving forward two boxes and over one, in any direction) cannot contain the same digit (see image below).\n",
        "* Any two cells separated by a king's move from chess (one box in any direction including diagonals) cannot contain the same digit.\n",
        "* Any two orthogonally adjacent (up, down, left, or right) cells cannot contain consecutive digits."
      ]
    },
    {
      "cell_type": "markdown",
      "metadata": {
        "id": "wwjCVYCiAKXq"
      },
      "source": [
        "### Knight's move constraint image\n",
        "<img src=\"https://raw.githubusercontent.com/stanleybak/CS7320-AI/master/Knowledge-based/knights.jpg\" width=\"400\"/>\n",
        "\n",
        "The knight's move constraint would mean the yellow boxes cannot contain a 1.\n"
      ]
    },
    {
      "cell_type": "markdown",
      "metadata": {
        "id": "S9P6BThtAMv3"
      },
      "source": [
        "## Miracle Sudoku Starting Information\n",
        "Provide the code to solve the puzzle given below. The code should output a reasonable visualization of the solution, for example using text. **(2 points)**\n",
        "\n",
        "<img src=\"https://raw.githubusercontent.com/stanleybak/CS7320-AI/master/Knowledge-based/miracle.jpg\" width=\"400\"/>"
      ]
    },
    {
      "cell_type": "code",
      "execution_count": 18,
      "metadata": {
        "colab": {
          "base_uri": "https://localhost:8080/"
        },
        "id": "E56fFoT7CqpY",
        "outputId": "5ba83bce-12e1-48bc-f614-b9a039e7ee3c"
      },
      "outputs": [
        {
          "name": "stdout",
          "output_type": "stream",
          "text": [
            "-------------------------------\n",
            "| 4  8  3 | 7  2  6 | 1  5  9 |\n",
            "| 7  2  6 | 1  5  9 | 4  8  3 |\n",
            "| 1  5  9 | 4  8  3 | 7  2  6 |\n",
            "-------------------------------\n",
            "| 8  3  7 | 2  6  1 | 5  9  4 |\n",
            "| 2  6  1 | 5  9  4 | 8  3  7 |\n",
            "| 5  9  4 | 8  3  7 | 2  6  1 |\n",
            "-------------------------------\n",
            "| 3  7  2 | 6  1  5 | 9  4  8 |\n",
            "| 6  1  5 | 9  4  8 | 3  7  2 |\n",
            "| 9  4  8 | 3  7  2 | 6  1  5 |\n",
            "-------------------------------\n",
            "Solutions found: 1\n"
          ]
        }
      ],
      "source": [
        "# Solution code for Miracle Sudoku using z3py\n",
        "from z3 import *\n",
        "\n",
        "def solve_miracle_sudoku(grid, show=0):\n",
        "  \"\"\"Solves a miracle sudoku grid using the last solution found and prints the number of solutions found.\"\"\"\n",
        "\n",
        "  # create a Solver\n",
        "  s = Solver()\n",
        "\n",
        "  # for all rows i\n",
        "  for i in range(len(grid)):\n",
        "    # for all columns j\n",
        "    for j in range(len(grid[0])):\n",
        "\n",
        "      # if grid position is not occupied\n",
        "      if grid[i][j] == 0:\n",
        "\n",
        "        # for all numbers k\n",
        "        for k in range(1, 10):\n",
        "          # add row constraint\n",
        "          s.add(Implies(Bool(f\"X_{i,j,k}\"), And(*[Not(Bool(f\"X_{x,j,k}\")) for x in range(9) if x != i])))\n",
        "          # add column constraint\n",
        "          s.add(Implies(Bool(f\"X_{i,j,k}\"), And(*[Not(Bool(f\"X_{i,x,k}\")) for x in range(9) if x != j])))\n",
        "          # add at most one number per grid position constraint\n",
        "          s.add(Implies(Bool(f\"X_{i,j,k}\"), And(*[Not(Bool(f\"X_{i,j,x}\")) for x in range(1, 10) if x != k])))\n",
        "          # add knight's move constraint\n",
        "          s.add(Implies(Bool(f\"X_{i,j,k}\"), And(*[Not(Bool(f\"X_{i+x,j+y,k}\")) for x in [-2, -1, 1, 2] for y in [-2, -1, 1, 2] if abs(x) != abs(y) and 0 <= i + x <= 8 and 0 <= j + y <= 8])))\n",
        "          # add king's move constraint\n",
        "          s.add(Implies(Bool(f\"X_{i,j,k}\"), And(*[Not(Bool(f\"X_{i+x,j+y,k}\")) for x in [-1, 0, 1] for y in [-1, 0, 1] if x != 0 and y != 0 and 0 <= i + x <= 8 and 0 <= j + y <= 8])))\n",
        "          # add orthogonal constraint\n",
        "          s.add(Implies(Bool(f\"X_{i,j,k}\"), And(*[Not(Bool(f\"X_{i+x,j+y,k+z}\")) for x in [-1, 0, 1] for y in [-1, 0, 1] for z in [-1, 1] if abs(x) != abs(y) and 0 <= i + x <= 8 and 0 <= j + y <= 8 and 1 <= k + z <= 9])))\n",
        "\n",
        "        # add at least one number per grid position constraint\n",
        "        s.add(Or(*[Bool(f\"X_{i,j,k}\") for k in range(1, 10)]))\n",
        "\n",
        "      # if grid position is occupied\n",
        "      else:\n",
        "\n",
        "        # add initial grid state constraint\n",
        "        s.add(Bool(f\"X_{i,j,grid[i][j]}\"))\n",
        "\n",
        "  # iterate over sub-grid row number upper limits\n",
        "  for a in range(3, 10, 3):\n",
        "    # iterate over sub-grid column number upper limits\n",
        "    for b in range(3, 10, 3):\n",
        "      # for all sub-grid rows\n",
        "      for i in range(a - 3, a):\n",
        "        # for all sub-grid columns\n",
        "        for j in range(b - 3, b):\n",
        "          # for all numbers k\n",
        "          for k in range(1, 10):\n",
        "            # add sub-grid constraint\n",
        "            s.add(Implies(Bool(f\"X_{i,j,k}\"), And(*[Not(Bool(f\"X_{x,y,k}\")) for x in range(a - 3, a) for y in range(b - 3, b) if x != i or y != j])))\n",
        "\n",
        "  # number of solutions\n",
        "  num = 0\n",
        "\n",
        "  # loop until no other solution is found\n",
        "  while s.check() == sat:\n",
        "\n",
        "    # increment number of solutions\n",
        "    num += 1\n",
        "\n",
        "    # get model\n",
        "    m = s.model()\n",
        "\n",
        "    # constraint to find a different solution\n",
        "    constraint = None\n",
        "\n",
        "    # iterate over variables in the model\n",
        "    for v in m:\n",
        "\n",
        "      # if the variable is true\n",
        "      if m[v]:\n",
        "\n",
        "        # print the variable\n",
        "        # print(f\"{v}: {m[v]}\")\n",
        "\n",
        "        # get name of variable\n",
        "        name = v.name()\n",
        "\n",
        "        # extract i, j, and k from name of variable\n",
        "        ijk = (int(name[3]), int(name[6]), int(name[9]))\n",
        "\n",
        "        # add number to grid\n",
        "        grid[ijk[0]][ijk[1]] = ijk[2]\n",
        "\n",
        "        # build constraint to find a different solution\n",
        "        if constraint is None:\n",
        "          constraint = Bool(name)\n",
        "        else:\n",
        "          constraint = And(constraint, Bool(name))\n",
        "\n",
        "    # add different solution constraint\n",
        "    s.add(Not(constraint))\n",
        "\n",
        "    # show up to show solutions\n",
        "    if num <= show:\n",
        "      show_sudoku(grid)\n",
        "\n",
        "  # print number of solutions found\n",
        "  print(\"Solutions found:\", num)\n",
        "\n",
        "grid = [[0, 0, 0, 0, 0, 0, 0, 0, 0],\n",
        "        [0, 0, 0, 0, 0, 0, 0, 0, 0],\n",
        "        [0, 0, 0, 0, 0, 0, 0, 0, 0],\n",
        "        [0, 0, 0, 0, 0, 0, 0, 0, 0],\n",
        "        [0, 0, 1, 0, 0, 0, 0, 0, 0],\n",
        "        [0, 0, 0, 0, 0, 0, 2, 0, 0],\n",
        "        [0, 0, 0, 0, 0, 0, 0, 0, 0],\n",
        "        [0, 0, 0, 0, 0, 0, 0, 0, 0],\n",
        "        [0, 0, 0, 0, 0, 0, 0, 0, 0]]\n",
        "\n",
        "solve_miracle_sudoku(grid, show=3)"
      ]
    },
    {
      "cell_type": "markdown",
      "metadata": {
        "id": "sy985abkCrfR"
      },
      "source": [
        "\n",
        "\n",
        "---\n",
        "\n",
        "\n",
        "# Propositional Logic\n",
        "\n",
        "Next, we will use truth tables and z3py to prove logical entailment.\n",
        "\n",
        "## Truth Tables\n",
        "\n",
        "Using markdown tables and bold to show relevant rows, use the truth table method to show logical truths.\n",
        "\n",
        "\n",
        "### Example\n",
        "\n",
        "Here's an example that shows $p, p \\rightarrow q \\models q$.  \n",
        "\n",
        "| p | q | p -> q |\n",
        "|-------|-------|---------------------|\n",
        "| **T**     | **T**     | **T**                   |\n",
        "| T     | F     | F                   |\n",
        "| F     | T     | T                   |\n",
        "| F     | F     | T                   |\n",
        "\n",
        "Since $q$ is true whenever $p$ and $p \\rightarrow q$ are true, the expression is true.\n",
        "\n",
        "### Questions\n",
        "\n",
        "Prove that the following semantic entailment expressions are true by using the truth table approach.  Bold the appropriate rows **(1 point)**\n",
        "\n",
        " * $(p\\rightarrow q)\\rightarrow r, s \\rightarrow \\neg p, t, \\neg s, t \\rightarrow q \\models r$\n",
        " * $\\emptyset \\models q \\rightarrow (p \\rightarrow (p \\rightarrow (q \\rightarrow p)))$\n",
        " * $(p\\rightarrow q)\\rightarrow r, s \\rightarrow \\neg p, t, \\neg s, t \\rightarrow q \\models r$"
      ]
    },
    {
      "cell_type": "code",
      "execution_count": 19,
      "metadata": {
        "colab": {
          "base_uri": "https://localhost:8080/"
        },
        "id": "A0_vulpkHwsG",
        "outputId": "3195ab30-9b5d-4ce7-c365-0412afe8b546"
      },
      "outputs": [
        {
          "name": "stdout",
          "output_type": "stream",
          "text": [
            "|p|q|r|s|t|¬p|¬s|p → q|(p → q) → r|s → ¬p|t → q|\n",
            "|-|-|-|-|-|-|-|-|-|-|-|\n",
            "|T|T|T|T|T|F|F|T|T|F|T|\n",
            "|T|T|T|T|F|F|F|T|T|F|T|\n",
            "|**T**|**T**|**T**|**F**|**T**|**F**|**T**|**T**|**T**|**T**|**T**|\n",
            "|T|T|T|F|F|F|T|T|T|T|T|\n",
            "|T|T|F|T|T|F|F|T|F|F|T|\n",
            "|T|T|F|T|F|F|F|T|F|F|T|\n",
            "|T|T|F|F|T|F|T|T|F|T|T|\n",
            "|T|T|F|F|F|F|T|T|F|T|T|\n",
            "|T|F|T|T|T|F|F|F|T|F|F|\n",
            "|T|F|T|T|F|F|F|F|T|F|T|\n",
            "|T|F|T|F|T|F|T|F|T|T|F|\n",
            "|T|F|T|F|F|F|T|F|T|T|T|\n",
            "|T|F|F|T|T|F|F|F|T|F|F|\n",
            "|T|F|F|T|F|F|F|F|T|F|T|\n",
            "|T|F|F|F|T|F|T|F|T|T|F|\n",
            "|T|F|F|F|F|F|T|F|T|T|T|\n",
            "|F|T|T|T|T|T|F|T|T|T|T|\n",
            "|F|T|T|T|F|T|F|T|T|T|T|\n",
            "|**F**|**T**|**T**|**F**|**T**|**T**|**T**|**T**|**T**|**T**|**T**|\n",
            "|F|T|T|F|F|T|T|T|T|T|T|\n",
            "|F|T|F|T|T|T|F|T|F|T|T|\n",
            "|F|T|F|T|F|T|F|T|F|T|T|\n",
            "|F|T|F|F|T|T|T|T|F|T|T|\n",
            "|F|T|F|F|F|T|T|T|F|T|T|\n",
            "|F|F|T|T|T|T|F|T|T|T|F|\n",
            "|F|F|T|T|F|T|F|T|T|T|T|\n",
            "|F|F|T|F|T|T|T|T|T|T|F|\n",
            "|F|F|T|F|F|T|T|T|T|T|T|\n",
            "|F|F|F|T|T|T|F|T|F|T|F|\n",
            "|F|F|F|T|F|T|F|T|F|T|T|\n",
            "|F|F|F|F|T|T|T|T|F|T|F|\n",
            "|F|F|F|F|F|T|T|T|F|T|T|\n",
            "\n",
            "---\n",
            "\n",
            "|p|q|q → p|p → (q → p)|p → (p → (q → p))|q → (p → (p → (q → p)))|\n",
            "|-|-|-|-|-|-|\n",
            "|**T**|**T**|**T**|**T**|**T**|**T**|\n",
            "|**T**|**F**|**T**|**T**|**T**|**T**|\n",
            "|**F**|**T**|**F**|**T**|**T**|**T**|\n",
            "|**F**|**F**|**T**|**T**|**T**|**T**|\n"
          ]
        }
      ],
      "source": [
        "# create list of truth values\n",
        "truth_values = [True, False]\n",
        "\n",
        "# create function to extract first letter from boolean\n",
        "letter = lambda x: str(x)[0]\n",
        "\n",
        "# define table headers\n",
        "expr = [\"p\", \"q\", \"r\", \"s\", \"t\", \"¬p\", \"¬s\", \"p → q\", \"(p → q) → r\", \"s → ¬p\", \"t → q\"]\n",
        "\n",
        "# print table header\n",
        "print(\"\", *expr, \"\", sep=\"|\")\n",
        "print(\"|-\"*11, \"|\", sep=\"\")\n",
        "\n",
        "# iterate through all combinations of truth values for p, q, r, s, t\n",
        "for p in truth_values:\n",
        "  for q in truth_values:\n",
        "    for r in truth_values:\n",
        "      for s in truth_values:\n",
        "        for t in truth_values:\n",
        "\n",
        "          # find truth values of each row of the truth table\n",
        "          row = [p, q, r, s, t, not p, not s, not p or q, not(not p or q) or r, not s or not p, not t or q]\n",
        "\n",
        "          # create dictionary to map between expressions to truth values\n",
        "          table = dict(zip(expr, row))\n",
        "\n",
        "          # check if the left side of the entailment expression is true\n",
        "          bold = table[\"(p → q) → r\"] and table[\"s → ¬p\"] and table[\"t\"] and table[\"¬s\"] and table[\"t → q\"]\n",
        "\n",
        "          # print the row in bold or not depending on truth value of left side of entailment expression\n",
        "          if bold:\n",
        "            print(\"|**\", end=\"\")\n",
        "            print(*map(letter, row), sep=\"**|**\", end=\"\")\n",
        "            print(\"**|\")\n",
        "          else:\n",
        "            print(\"\", *map(letter, row), \"\", sep=\"|\")\n",
        "\n",
        "# print divider between the tables\n",
        "print(\"\\n---\\n\")\n",
        "\n",
        "# define table headers\n",
        "expr = [\"p\", \"q\", \"q → p\", \"p → (q → p)\", \"p → (p → (q → p))\", \"q → (p → (p → (q → p)))\"]\n",
        "\n",
        "# print table header\n",
        "print(\"\", *expr, \"\", sep=\"|\")\n",
        "print(\"|-\"*6, \"|\", sep=\"\")\n",
        "\n",
        "# iterate through all combinations of truth values for p, q\n",
        "for p in truth_values:\n",
        "  for q in truth_values:\n",
        "\n",
        "    # find truth values of each row of the truth table\n",
        "    qp = not q or p\n",
        "    pqp = not p or qp\n",
        "    ppqp = not p or pqp\n",
        "    qppqp = not q or ppqp\n",
        "    row = [p, q, qp, pqp, ppqp, qppqp]\n",
        "\n",
        "    # empty set is true\n",
        "    bold = True\n",
        "\n",
        "    # print the row in bold or not depending on truth value of left side of entailment expression\n",
        "    if bold:\n",
        "      print(\"|**\", end=\"\")\n",
        "      print(*map(letter, row), sep=\"**|**\", end=\"\")\n",
        "      print(\"**|\")\n",
        "    else:\n",
        "      print(\"\", *map(letter, row), \"\", sep=\"|\")"
      ]
    },
    {
      "cell_type": "markdown",
      "metadata": {
        "id": "wyZsntivFueN"
      },
      "source": [
        "|p|q|r|s|t|¬p|¬s|p → q|(p → q) → r|s → ¬p|t → q|\n",
        "|-|-|-|-|-|-|-|-|-|-|-|\n",
        "|T|T|T|T|T|F|F|T|T|F|T|\n",
        "|T|T|T|T|F|F|F|T|T|F|T|\n",
        "|**T**|**T**|**T**|**F**|**T**|**F**|**T**|**T**|**T**|**T**|**T**|\n",
        "|T|T|T|F|F|F|T|T|T|T|T|\n",
        "|T|T|F|T|T|F|F|T|F|F|T|\n",
        "|T|T|F|T|F|F|F|T|F|F|T|\n",
        "|T|T|F|F|T|F|T|T|F|T|T|\n",
        "|T|T|F|F|F|F|T|T|F|T|T|\n",
        "|T|F|T|T|T|F|F|F|T|F|F|\n",
        "|T|F|T|T|F|F|F|F|T|F|T|\n",
        "|T|F|T|F|T|F|T|F|T|T|F|\n",
        "|T|F|T|F|F|F|T|F|T|T|T|\n",
        "|T|F|F|T|T|F|F|F|T|F|F|\n",
        "|T|F|F|T|F|F|F|F|T|F|T|\n",
        "|T|F|F|F|T|F|T|F|T|T|F|\n",
        "|T|F|F|F|F|F|T|F|T|T|T|\n",
        "|F|T|T|T|T|T|F|T|T|T|T|\n",
        "|F|T|T|T|F|T|F|T|T|T|T|\n",
        "|**F**|**T**|**T**|**F**|**T**|**T**|**T**|**T**|**T**|**T**|**T**|\n",
        "|F|T|T|F|F|T|T|T|T|T|T|\n",
        "|F|T|F|T|T|T|F|T|F|T|T|\n",
        "|F|T|F|T|F|T|F|T|F|T|T|\n",
        "|F|T|F|F|T|T|T|T|F|T|T|\n",
        "|F|T|F|F|F|T|T|T|F|T|T|\n",
        "|F|F|T|T|T|T|F|T|T|T|F|\n",
        "|F|F|T|T|F|T|F|T|T|T|T|\n",
        "|F|F|T|F|T|T|T|T|T|T|F|\n",
        "|F|F|T|F|F|T|T|T|T|T|T|\n",
        "|F|F|F|T|T|T|F|T|F|T|F|\n",
        "|F|F|F|T|F|T|F|T|F|T|T|\n",
        "|F|F|F|F|T|T|T|T|F|T|F|\n",
        "|F|F|F|F|F|T|T|T|F|T|T|\n",
        "\n",
        "*As shown by the bolded rows, r is true whenever (p→q)→r,s→¬p,t,¬s,t→q are all true, so the entailment expression (p→q)→r,s→¬p,t,¬s,t→q ⊨ r is true.\n",
        "\n",
        "---\n",
        "\n",
        "|p|q|q → p|p → (q → p)|p → (p → (q → p))|q → (p → (p → (q → p)))|\n",
        "|-|-|-|-|-|-|\n",
        "|**T**|**T**|**T**|**T**|**T**|**T**|\n",
        "|**T**|**F**|**T**|**T**|**T**|**T**|\n",
        "|**F**|**T**|**F**|**T**|**T**|**T**|\n",
        "|**F**|**F**|**T**|**T**|**T**|**T**|\n",
        "\n",
        "*As shown by the bolded rows, q→(p→(p→(q→p))) is true in all possible worlds, so the entailment expression ∅ ⊨ q→(p→(p→(q→p))) is true."
      ]
    },
    {
      "cell_type": "markdown",
      "metadata": {
        "id": "q7le6n2jFu4l"
      },
      "source": [
        "\n",
        "\n",
        "---\n",
        "\n",
        "\n",
        " ## Logical Entailment using z3py\n",
        "\n",
        " Use Z3py to prove the above three entailments are true using satisfiability. See section 7.5 in the book for details. **(1 point)**"
      ]
    },
    {
      "cell_type": "code",
      "execution_count": 20,
      "metadata": {
        "colab": {
          "base_uri": "https://localhost:8080/"
        },
        "id": "Z80-O6FGDtjp",
        "outputId": "ea56af4d-648b-4606-eb5c-aa675c0ba36c"
      },
      "outputs": [
        {
          "name": "stdout",
          "output_type": "stream",
          "text": [
            "For (p→q)→r,s→¬p,t,¬s,t→q ⊨ r:\n",
            "(p→q)→r,s→¬p,t,¬s,t→q ∧ ¬r is unsat \n",
            "\n",
            "For ∅ ⊨ q→(p→(p→(q→p))):\n",
            "∅ ∧ ¬(q→(p→(p→(q→p)))) is unsat \n",
            "\n",
            "α ⊨ β iff α ∧ ¬β is unsatisfiable.\n",
            "α ∧ ¬β is unsatisfiable for the above entailment expressions of the form α ⊨ β.\n",
            "Therefore, the entailment expressions are true.\n"
          ]
        }
      ],
      "source": [
        "# create a Solver\n",
        "solver = Solver()\n",
        "\n",
        "# create booleans\n",
        "p, q, r, s, t = Bools(\"p q r s t\")\n",
        "\n",
        "# left side of entailment (alpha)\n",
        "alpha = And(Implies(Implies(p, q), r), Implies(s, Not(p)), t, Not(s), Implies(t, q))\n",
        "\n",
        "# right side of entailment (beta)\n",
        "beta = r\n",
        "\n",
        "# add α ∧ ¬β constraint\n",
        "solver.add(And(alpha, Not(beta)))\n",
        "\n",
        "# check for unsat\n",
        "print(\"For (p→q)→r,s→¬p,t,¬s,t→q ⊨ r:\")\n",
        "print(\"(p→q)→r,s→¬p,t,¬s,t→q ∧ ¬r is\", solver.check(), \"\\n\")\n",
        "\n",
        "\n",
        "# create a Solver\n",
        "solver = Solver()\n",
        "\n",
        "# create booleans\n",
        "p, q = Bools(\"p q\")\n",
        "\n",
        "# left side of entailment (alpha)\n",
        "alpha = False\n",
        "\n",
        "# right side of entailment (beta)\n",
        "beta = Implies(q, Implies(p, Implies(p, Implies(q, p))))\n",
        "\n",
        "# add α ∧ ¬β constraint\n",
        "solver.add(And(alpha, Not(beta)))\n",
        "\n",
        "# check for unsat\n",
        "print(\"For ∅ ⊨ q→(p→(p→(q→p))):\")\n",
        "print(\"∅ ∧ ¬(q→(p→(p→(q→p)))) is\", solver.check(), \"\\n\")\n",
        "\n",
        "\n",
        "print(\"α ⊨ β iff α ∧ ¬β is unsatisfiable.\")\n",
        "print(\"α ∧ ¬β is unsatisfiable for the above entailment expressions of the form α ⊨ β.\")\n",
        "print(\"Therefore, the entailment expressions are true.\")"
      ]
    }
  ],
  "metadata": {
    "colab": {
      "provenance": []
    },
    "kernelspec": {
      "display_name": "Python 3",
      "language": "python",
      "name": "python3"
    },
    "language_info": {
      "codemirror_mode": {
        "name": "ipython",
        "version": 3
      },
      "file_extension": ".py",
      "mimetype": "text/x-python",
      "name": "python",
      "nbconvert_exporter": "python",
      "pygments_lexer": "ipython3",
      "version": "3.8.5"
    }
  },
  "nbformat": 4,
  "nbformat_minor": 0
}
